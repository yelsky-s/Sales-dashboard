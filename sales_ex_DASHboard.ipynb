{
 "cells": [
  {
   "cell_type": "code",
   "execution_count": 1,
   "id": "e41875fc",
   "metadata": {},
   "outputs": [],
   "source": [
    "import pandas as pd\n",
    "import plotly.express as px\n",
    "import plotly.graph_objects as go\n",
    "from dash import Dash, dcc, html, Input, Output"
   ]
  },
  {
   "cell_type": "code",
   "execution_count": 2,
   "id": "cc3d1a18",
   "metadata": {},
   "outputs": [],
   "source": [
    "app = Dash(__name__)"
   ]
  },
  {
   "cell_type": "code",
   "execution_count": 3,
   "id": "b159dbc7",
   "metadata": {},
   "outputs": [
    {
     "data": {
      "text/html": [
       "<div>\n",
       "<style scoped>\n",
       "    .dataframe tbody tr th:only-of-type {\n",
       "        vertical-align: middle;\n",
       "    }\n",
       "\n",
       "    .dataframe tbody tr th {\n",
       "        vertical-align: top;\n",
       "    }\n",
       "\n",
       "    .dataframe thead th {\n",
       "        text-align: right;\n",
       "    }\n",
       "</style>\n",
       "<table border=\"1\" class=\"dataframe\">\n",
       "  <thead>\n",
       "    <tr style=\"text-align: right;\">\n",
       "      <th></th>\n",
       "      <th>Unnamed: 0</th>\n",
       "      <th>client group</th>\n",
       "      <th>sales person</th>\n",
       "      <th>date</th>\n",
       "      <th>product code</th>\n",
       "      <th>units sold</th>\n",
       "      <th>transaction currency</th>\n",
       "    </tr>\n",
       "  </thead>\n",
       "  <tbody>\n",
       "    <tr>\n",
       "      <th>0</th>\n",
       "      <td>0</td>\n",
       "      <td>CL-5</td>\n",
       "      <td>J001</td>\n",
       "      <td>2020-10-03</td>\n",
       "      <td>CS002</td>\n",
       "      <td>8.0</td>\n",
       "      <td>ILS</td>\n",
       "    </tr>\n",
       "    <tr>\n",
       "      <th>1</th>\n",
       "      <td>1</td>\n",
       "      <td>CL-4</td>\n",
       "      <td>B004</td>\n",
       "      <td>2021-05-03</td>\n",
       "      <td>CS002</td>\n",
       "      <td>5.0</td>\n",
       "      <td>ILS</td>\n",
       "    </tr>\n",
       "    <tr>\n",
       "      <th>2</th>\n",
       "      <td>2</td>\n",
       "      <td>CL-9</td>\n",
       "      <td>J001</td>\n",
       "      <td>2018-08-07</td>\n",
       "      <td>CS002</td>\n",
       "      <td>24.0</td>\n",
       "      <td>ILS</td>\n",
       "    </tr>\n",
       "    <tr>\n",
       "      <th>3</th>\n",
       "      <td>3</td>\n",
       "      <td>CL-1</td>\n",
       "      <td>B001</td>\n",
       "      <td>2018-12-04</td>\n",
       "      <td>CS002</td>\n",
       "      <td>22.0</td>\n",
       "      <td>ILS</td>\n",
       "    </tr>\n",
       "    <tr>\n",
       "      <th>4</th>\n",
       "      <td>4</td>\n",
       "      <td>CL-11</td>\n",
       "      <td>J003</td>\n",
       "      <td>2017-07-19</td>\n",
       "      <td>WS001</td>\n",
       "      <td>29.0</td>\n",
       "      <td>ILS</td>\n",
       "    </tr>\n",
       "  </tbody>\n",
       "</table>\n",
       "</div>"
      ],
      "text/plain": [
       "   Unnamed: 0 client group sales person       date product code  units sold  \\\n",
       "0           0         CL-5         J001 2020-10-03        CS002         8.0   \n",
       "1           1         CL-4         B004 2021-05-03        CS002         5.0   \n",
       "2           2         CL-9         J001 2018-08-07        CS002        24.0   \n",
       "3           3         CL-1         B001 2018-12-04        CS002        22.0   \n",
       "4           4        CL-11         J003 2017-07-19        WS001        29.0   \n",
       "\n",
       "  transaction currency  \n",
       "0                  ILS  \n",
       "1                  ILS  \n",
       "2                  ILS  \n",
       "3                  ILS  \n",
       "4                  ILS  "
      ]
     },
     "execution_count": 3,
     "metadata": {},
     "output_type": "execute_result"
    }
   ],
   "source": [
    "# Import data from excels into pandas\n",
    "curprod = pd.ExcelFile(r'C:\\Users\\yelsk\\Desktop\\programming\\plotly_Dash\\sales_ex_DASHboard\\currency product.xlsx')\n",
    "cur = pd.read_excel(curprod, 'currency')\n",
    "prod = pd.read_excel(curprod, 'products')\n",
    "\n",
    "pur_or = pd.read_excel(r'C:\\Users\\yelsk\\Desktop\\programming\\plotly_Dash\\sales_ex_DASHboard\\purchase orders.xlsx')\n",
    "sa_p = pd.read_excel(r'C:\\Users\\yelsk\\Desktop\\programming\\plotly_Dash\\sales_ex_DASHboard\\sales people.xlsx')\n",
    "\n",
    "pur_or.head()"
   ]
  },
  {
   "cell_type": "code",
   "execution_count": 4,
   "id": "cb5ce72e",
   "metadata": {},
   "outputs": [],
   "source": [
    "#data exploration and cleaning\n",
    "pur_or.columns\n",
    "\n",
    "#pur_or['units sold'].unique()\n",
    "\n",
    "#pur_or[pur_or['client group']=='-']\n",
    "pur_or.dropna(subset=['sales person', 'product code', 'units sold'], inplace=True)\n",
    "\n",
    "#cleaning out a non existing products' rows\n",
    "pur_or = pur_or[pur_or['product code'] != 'Cc']\n",
    "pur_or = pur_or[pur_or['product code'] != '--']\n",
    "\n",
    "#dropping the additional *index column (original from excel) in all dataframes\n",
    "cur.drop(['Unnamed: 0'], axis=1, inplace=True)\n",
    "prod.drop(['Unnamed: 0'], axis=1, inplace=True)\n",
    "pur_or.drop(['Unnamed: 0'], axis=1, inplace=True)\n",
    "sa_p.drop(['Unnamed: 0'], axis=1, inplace=True)\n"
   ]
  },
  {
   "cell_type": "code",
   "execution_count": 5,
   "id": "13e05ade",
   "metadata": {},
   "outputs": [
    {
     "data": {
      "text/plain": [
       "array(['CS002', 'WS001', 'SW001', 'SW002', 'CS001'], dtype=object)"
      ]
     },
     "execution_count": 5,
     "metadata": {},
     "output_type": "execute_result"
    }
   ],
   "source": [
    "pur_or['product code'].unique()"
   ]
  },
  {
   "cell_type": "code",
   "execution_count": 6,
   "id": "16d1f797",
   "metadata": {},
   "outputs": [],
   "source": [
    "#adding info from other tables to pur_or dataframe\n",
    "pur_or['sales_person_name'] = pur_or['sales person'].map(sa_p.set_index('salesperson code')['name'])\n",
    "pur_or['company branch'] = pur_or['sales person'].map(sa_p.set_index('salesperson code')['company branch'])\n",
    "\n",
    "pur_or['product_unit_price'] = pur_or['product code'].map(prod.set_index('product code')['unit price, ILS'])\n",
    "pur_or['product_manif_cost'] = pur_or['product code'].map(prod.set_index('product code')['manufacturing cost, ILS'])\n"
   ]
  },
  {
   "cell_type": "code",
   "execution_count": 7,
   "id": "b3469a63",
   "metadata": {},
   "outputs": [],
   "source": [
    "#price paid per transaction\n",
    "pur_or['transaction pay'] = pur_or['product_unit_price']*pur_or['units sold']\n",
    "pur_or['transaction profit'] = (pur_or['product_unit_price']-pur_or['product_manif_cost'])*pur_or['units sold']\n"
   ]
  },
  {
   "cell_type": "code",
   "execution_count": 8,
   "id": "25b957da",
   "metadata": {},
   "outputs": [],
   "source": [
    "#adding lon and lat of a branch\n",
    "for row, t in pur_or.iterrows():\n",
    "    if pur_or.loc[row, 'company branch'] == 'Jerusalem':\n",
    "        pur_or.loc[row,'latitude'] = 31.77\n",
    "        pur_or.loc[row,'longitude'] = 35.21\n",
    "    elif pur_or.loc[row,'company branch'] == 'Beer Sheva':\n",
    "        pur_or.loc[row,'latitude'] = 31.25\n",
    "        pur_or.loc[row,'longitude'] = 34.79\n",
    "    else:\n",
    "        pur_or.loc[row,'latitude'] = 32.79\n",
    "        pur_or.loc[row,'longitude'] = 34.99"
   ]
  },
  {
   "cell_type": "code",
   "execution_count": 9,
   "id": "586d0bd2",
   "metadata": {},
   "outputs": [],
   "source": [
    "df = pur_or.groupby(['sales person', 'product code', 'company branch', 'latitude', 'longitude'])[['transaction pay', 'transaction profit']].sum()\n",
    "df.reset_index(inplace=True) #otherwise it creates multiindex dataframe which plotly does not support"
   ]
  },
  {
   "cell_type": "code",
   "execution_count": 10,
   "id": "2bfa367d",
   "metadata": {
    "scrolled": true
   },
   "outputs": [
    {
     "data": {
      "text/html": [
       "<div>\n",
       "<style scoped>\n",
       "    .dataframe tbody tr th:only-of-type {\n",
       "        vertical-align: middle;\n",
       "    }\n",
       "\n",
       "    .dataframe tbody tr th {\n",
       "        vertical-align: top;\n",
       "    }\n",
       "\n",
       "    .dataframe thead th {\n",
       "        text-align: right;\n",
       "    }\n",
       "</style>\n",
       "<table border=\"1\" class=\"dataframe\">\n",
       "  <thead>\n",
       "    <tr style=\"text-align: right;\">\n",
       "      <th></th>\n",
       "      <th>sales person</th>\n",
       "      <th>product code</th>\n",
       "      <th>company branch</th>\n",
       "      <th>latitude</th>\n",
       "      <th>longitude</th>\n",
       "      <th>transaction pay</th>\n",
       "      <th>transaction profit</th>\n",
       "    </tr>\n",
       "  </thead>\n",
       "  <tbody>\n",
       "    <tr>\n",
       "      <th>0</th>\n",
       "      <td>B001</td>\n",
       "      <td>CS001</td>\n",
       "      <td>Beer Sheva</td>\n",
       "      <td>31.25</td>\n",
       "      <td>34.79</td>\n",
       "      <td>373750.0</td>\n",
       "      <td>153985.00</td>\n",
       "    </tr>\n",
       "    <tr>\n",
       "      <th>1</th>\n",
       "      <td>B001</td>\n",
       "      <td>CS002</td>\n",
       "      <td>Beer Sheva</td>\n",
       "      <td>31.25</td>\n",
       "      <td>34.79</td>\n",
       "      <td>298870.0</td>\n",
       "      <td>140343.06</td>\n",
       "    </tr>\n",
       "    <tr>\n",
       "      <th>2</th>\n",
       "      <td>B001</td>\n",
       "      <td>SW001</td>\n",
       "      <td>Beer Sheva</td>\n",
       "      <td>31.25</td>\n",
       "      <td>34.79</td>\n",
       "      <td>298068.0</td>\n",
       "      <td>40416.00</td>\n",
       "    </tr>\n",
       "  </tbody>\n",
       "</table>\n",
       "</div>"
      ],
      "text/plain": [
       "  sales person product code company branch  latitude  longitude  \\\n",
       "0         B001        CS001     Beer Sheva     31.25      34.79   \n",
       "1         B001        CS002     Beer Sheva     31.25      34.79   \n",
       "2         B001        SW001     Beer Sheva     31.25      34.79   \n",
       "\n",
       "   transaction pay  transaction profit  \n",
       "0         373750.0           153985.00  \n",
       "1         298870.0           140343.06  \n",
       "2         298068.0            40416.00  "
      ]
     },
     "execution_count": 10,
     "metadata": {},
     "output_type": "execute_result"
    }
   ],
   "source": [
    "df.head(3)"
   ]
  },
  {
   "cell_type": "markdown",
   "id": "9ed2cc5d",
   "metadata": {},
   "source": [
    "## Dash visualizations"
   ]
  },
  {
   "cell_type": "code",
   "execution_count": 11,
   "id": "907102f7",
   "metadata": {},
   "outputs": [],
   "source": [
    "# App layout - what (the items) user will see on the page\n",
    "app.layout = html.Div([\n",
    "\n",
    "    html.H1(\"Sales analysis Dashboard\", style={'text-align': 'center'}),\n",
    "    \n",
    "    html.Div(id='output_text', children=[]),\n",
    "    dcc.Graph(id='map', figure={}),\n",
    "    html.Br(),\n",
    "    \n",
    "    dcc.Graph(id='salesp_bar_chart'),# figure={}),\n",
    "\n",
    "    dcc.Dropdown(id=\"select_product_code\",\n",
    "                 \n",
    "                 options=[\n",
    "                     {\"label\": \"CS001\", \"value\": 'CS001'},\n",
    "                     {\"label\": \"CS002\", \"value\": 'CS002'},\n",
    "                     {\"label\": \"SW001\", \"value\": 'SW001'},\n",
    "                     {\"label\": \"SW002\", \"value\": 'SW002'},\n",
    "                     {\"label\": \"WS001\", \"value\": 'WS001'}],\n",
    "                 multi=False,\n",
    "                 value='CS001',\n",
    "                 style={'width': \"40%\"}\n",
    "                 ),\n",
    "\n",
    "\n",
    "\n",
    "    dcc.Graph(id='indiv_prod_bar_chart', figure={})\n",
    "\n",
    "])"
   ]
  },
  {
   "cell_type": "code",
   "execution_count": 12,
   "id": "1d24b35a",
   "metadata": {},
   "outputs": [],
   "source": [
    "# MAP callback\n",
    "@app.callback(\n",
    "    [Output(component_id='map', component_property='figure')], #goes to app.layout with the same id as the component_id of this line\n",
    "    [Input(component_id='select_product_code', component_property='value')]\n",
    ")\n",
    "def sales_map(option_slctd): \n",
    "    #the argument/s fo the function is/are always should be the component property of the callback's input/s -- option_slctd in this case\n",
    "    #the function should return always the component property of the output/s\n",
    "    #number of arguments the function exepts is equal to number of inputs in @app.callback\n",
    "    #number of objects the function returns is equal to number of outputs in @app.callback\n",
    "\n",
    "    dff = df.copy()\n",
    "    \n",
    "    fig = px.density_mapbox(\n",
    "        data_frame=dff,\n",
    "        lat='latitude',\n",
    "        lon='longitude',\n",
    "        z = 'transaction profit',\n",
    "        radius = 10,#'transaction profit',\n",
    "        center = dict(lat=32, lon=34), zoom = 6,\n",
    "        hover_name = 'company branch',\n",
    "        mapbox_style = 'open-street-map',\n",
    "        labels = 'transaction profit',\n",
    "        color_continuous_scale = 'Rainbow',\n",
    "        title = 'Sales Profit by Company Branch'\n",
    "    )\n",
    "\n",
    "    return [fig]"
   ]
  },
  {
   "cell_type": "code",
   "execution_count": 13,
   "id": "87931f90",
   "metadata": {},
   "outputs": [],
   "source": [
    "# Connect the Plotly graphs with Dash Components\n",
    "@app.callback(\n",
    "    [Output(component_id='salesp_bar_chart', component_property='figure')], #goes to app.layout with the same id as the component_id of this line\n",
    "    [Input(component_id='select_product_code', component_property='value')]\n",
    ")\n",
    "def sales_people_bar(noinput): \n",
    "\n",
    "    dff = df.copy()\n",
    "    \n",
    "    #plotly bar\n",
    "    fig = px.bar(df, x='sales person', y='transaction profit', color='product code')\n",
    "\n",
    "    return [fig]"
   ]
  },
  {
   "cell_type": "code",
   "execution_count": 14,
   "id": "9612e914",
   "metadata": {},
   "outputs": [],
   "source": [
    "@app.callback(\n",
    "    [#Output(component_id='output_container', component_property='children'), #goes to app.layout with the same id as the component_id of this line\n",
    "     Output(component_id='indiv_prod_bar_chart', component_property='figure')], #goes to app.layout with the same id as the component_id of this line\n",
    "    [Input(component_id='select_product_code', component_property='value')]\n",
    ")\n",
    "def sales_product_bar(option_slctd): \n",
    "\n",
    "    dff = df.copy()\n",
    "    dff = dff[dff[\"product code\"] == option_slctd]\n",
    "    \n",
    "    #plotly bar\n",
    "    fig = px.bar(dff, x='sales person', y='transaction profit')\n",
    "\n",
    "    return [fig]"
   ]
  },
  {
   "cell_type": "code",
   "execution_count": 15,
   "id": "7be1957a",
   "metadata": {},
   "outputs": [
    {
     "data": {
      "text/html": [
       "\n",
       "        <iframe\n",
       "            width=\"100%\"\n",
       "            height=\"650\"\n",
       "            src=\"http://127.0.0.1:8051/\"\n",
       "            frameborder=\"0\"\n",
       "            allowfullscreen\n",
       "            \n",
       "        ></iframe>\n",
       "        "
      ],
      "text/plain": [
       "<IPython.lib.display.IFrame at 0x21937ca7490>"
      ]
     },
     "metadata": {},
     "output_type": "display_data"
    }
   ],
   "source": [
    "if __name__ == '__main__':\n",
    "    app.run_server(debug=True, port=8051) #to define the port so it doesn't clash with sone other app"
   ]
  },
  {
   "cell_type": "code",
   "execution_count": null,
   "id": "d6918d1e",
   "metadata": {},
   "outputs": [],
   "source": []
  }
 ],
 "metadata": {
  "kernelspec": {
   "display_name": "Python 3 (ipykernel)",
   "language": "python",
   "name": "python3"
  },
  "language_info": {
   "codemirror_mode": {
    "name": "ipython",
    "version": 3
   },
   "file_extension": ".py",
   "mimetype": "text/x-python",
   "name": "python",
   "nbconvert_exporter": "python",
   "pygments_lexer": "ipython3",
   "version": "3.9.7"
  }
 },
 "nbformat": 4,
 "nbformat_minor": 5
}
